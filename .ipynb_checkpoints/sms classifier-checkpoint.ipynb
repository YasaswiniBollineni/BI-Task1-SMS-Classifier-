{
 "cells": [
  {
   "cell_type": "code",
   "execution_count": 7,
   "id": "5997a83d",,
   "metadata": {},
   "outputs": [],
   "source": [
    "#Import libraries\n",
    "import matplotlib.pyplot as plt\n",
    "import pandas as pd\n",
    "import seaborn as sns\n",
    "\n",
    "from sklearn.feature_extraction.text import CountVectorizer, TfidfVectorizer\n",
    "from sklearn.model_selection import train_test_split\n",
    "from sklearn.naive_bayes import GaussianNB\n",
    "from sklearn.neighbors import KNeighborsClassifier\n",
    "from sklearn.pipeline import Pipeline\n",
    "from sklearn.metrics import accuracy_score, classification_report, confusion_matrix, ConfusionMatrixDisplay"
   ]
  },
  {
   "cell_type": "code",
   "execution_count": 13,
   "id": "236a9b51",
   "metadata": {},
   "outputs": [
    {
     "data": {
      "text/html": [
       "<div>\n",
       "<style scoped>\n",
       "    .dataframe tbody tr th:only-of-type {\n",
       "        vertical-align: middle;\n",
       "    }\n",
       "\n",
       "    .dataframe tbody tr th {\n",
       "        vertical-align: top;\n",
       "    }\n",
       "\n",
       "    .dataframe thead th {\n",
       "        text-align: right;\n",
       "    }\n",
       "</style>\n",
       "<table border=\"1\" class=\"dataframe\">\n",
       "  <thead>\n",
       "    <tr style=\"text-align: right;\">\n",
       "      <th></th>\n",
       "      <th>v1</th>\n",
       "      <th>v2</th>\n",
       "      <th>Unnamed: 2</th>\n",
       "      <th>Unnamed: 3</th>\n",
       "      <th>Unnamed: 4</th>\n",
       "    </tr>\n",
       "  </thead>\n",
       "  <tbody>\n",
       "    <tr>\n",
       "      <th>0</th>\n",
       "      <td>ham</td>\n",
       "      <td>Go until jurong point, crazy.. Available only ...</td>\n",
       "      <td>NaN</td>\n",
       "      <td>NaN</td>\n",
       "      <td>NaN</td>\n",
       "    </tr>\n",
       "    <tr>\n",
       "      <th>1</th>\n",
       "      <td>ham</td>\n",
       "      <td>Ok lar... Joking wif u oni...</td>\n",
       "      <td>NaN</td>\n",
       "      <td>NaN</td>\n",
       "      <td>NaN</td>\n",
       "    </tr>\n",
       "    <tr>\n",
       "      <th>2</th>\n",
       "      <td>spam</td>\n",
       "      <td>Free entry in 2 a wkly comp to win FA Cup fina...</td>\n",
       "      <td>NaN</td>\n",
       "      <td>NaN</td>\n",
       "      <td>NaN</td>\n",
       "    </tr>\n",
       "    <tr>\n",
       "      <th>3</th>\n",
       "      <td>ham</td>\n",
       "      <td>U dun say so early hor... U c already then say...</td>\n",
       "      <td>NaN</td>\n",
       "      <td>NaN</td>\n",
       "      <td>NaN</td>\n",
       "    </tr>\n",
       "    <tr>\n",
       "      <th>4</th>\n",
       "      <td>ham</td>\n",
       "      <td>Nah I don't think he goes to usf, he lives aro...</td>\n",
       "      <td>NaN</td>\n",
       "      <td>NaN</td>\n",
       "      <td>NaN</td>\n",
       "    </tr>\n",
       "  </tbody>\n",
       "</table>\n",
       "</div>"
      ],
      "text/plain": [
       "     v1                                                 v2 Unnamed: 2  \\\n",
       "0   ham  Go until jurong point, crazy.. Available only ...        NaN   \n",
       "1   ham                      Ok lar... Joking wif u oni...        NaN   \n",
       "2  spam  Free entry in 2 a wkly comp to win FA Cup fina...        NaN   \n",
       "3   ham  U dun say so early hor... U c already then say...        NaN   \n",
       "4   ham  Nah I don't think he goes to usf, he lives aro...        NaN   \n",
       "\n",
       "  Unnamed: 3 Unnamed: 4  \n",
       "0        NaN        NaN  \n",
       "1        NaN        NaN  \n",
       "2        NaN        NaN  \n",
       "3        NaN        NaN  \n",
       "4        NaN        NaN  "
      ]
     },
     "execution_count": 13,
     "metadata": {},
     "output_type": "execute_result"
    }
   ],
   "source": [
    "\n",
    "# Load dataset with specified encoding\n",
    "df = pd.read_csv('spam.csv', encoding='latin1')\n",
    "df.head()\n"
   ]
  },
  {
   "cell_type": "code",
   "execution_count": 14,
   "id": "691acd5d",
   "metadata": {},
   "outputs": [],
   "source": [
    "#Split the data into train and test set\n",
    "\n",
    "X = df.iloc[:, 1:2]\n",
    "y = df.iloc[:, 0:1]"
   ]
  },
  {
   "cell_type": "code",
   "execution_count": 15,
   "id": "4bbf9945",
   "metadata": {},
   "outputs": [
    {
     "data": {
      "image/png": "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",
      "text/plain": [
       "<Figure size 700x500 with 1 Axes>"
      ]
     },
     "metadata": {},
     "output_type": "display_data"
    }
   ],
   "source": [
    "#Visualize the class distribution\n",
    "\n",
    "fig, ax = plt.subplots(figsize=(7, 5))\n",
    "sns.countplot(x=\"v1\", data=df)\n",
    "   \n",
    "for p in ax.patches:\n",
    "    percentage = '{:.1f}%'.format(100 * p.get_height()/len(X))\n",
    "    x_countplot = p.get_x() + p.get_width()/2\n",
    "    y_countplot = p.get_height()+ 50\n",
    "    ax.annotate(percentage, (x_countplot, y_countplot), ha='center')\n",
    "plt.show()"
   ]
  },
  {
   "cell_type": "code",
   "execution_count": 16,
   "id": "b6a92e93",
   "metadata": {},
   "outputs": [],
   "source": [
    "#Split the training and testing set\n",
    "\n",
    "X_train, X_test, y_train, y_test = train_test_split(\n",
    "    X.values.ravel(), \n",
    "    y.values.ravel(), \n",
    "    test_size=0.20, \n",
    "    random_state=42)"
   ]
  },
  {
   "cell_type": "code",
   "execution_count": 17,
   "id": "ba41d798",
   "metadata": {},
   "outputs": [],
   "source": [
    "#Feature Extraction\n",
    "\n",
    "count_vectorizer = CountVectorizer()\n",
    "tfidf_vectorizer = TfidfVectorizer()"
   ]
  },
  {
   "cell_type": "code",
   "execution_count": 18,
   "id": "8e16c2f5",
   "metadata": {},
   "outputs": [
    {
     "data": {
      "text/html": [
       "<style>#sk-container-id-1 {color: black;}#sk-container-id-1 pre{padding: 0;}#sk-container-id-1 div.sk-toggleable {background-color: white;}#sk-container-id-1 label.sk-toggleable__label {cursor: pointer;display: block;width: 100%;margin-bottom: 0;padding: 0.3em;box-sizing: border-box;text-align: center;}#sk-container-id-1 label.sk-toggleable__label-arrow:before {content: \"▸\";float: left;margin-right: 0.25em;color: #696969;}#sk-container-id-1 label.sk-toggleable__label-arrow:hover:before {color: black;}#sk-container-id-1 div.sk-estimator:hover label.sk-toggleable__label-arrow:before {color: black;}#sk-container-id-1 div.sk-toggleable__content {max-height: 0;max-width: 0;overflow: hidden;text-align: left;background-color: #f0f8ff;}#sk-container-id-1 div.sk-toggleable__content pre {margin: 0.2em;color: black;border-radius: 0.25em;background-color: #f0f8ff;}#sk-container-id-1 input.sk-toggleable__control:checked~div.sk-toggleable__content {max-height: 200px;max-width: 100%;overflow: auto;}#sk-container-id-1 input.sk-toggleable__control:checked~label.sk-toggleable__label-arrow:before {content: \"▾\";}#sk-container-id-1 div.sk-estimator input.sk-toggleable__control:checked~label.sk-toggleable__label {background-color: #d4ebff;}#sk-container-id-1 div.sk-label input.sk-toggleable__control:checked~label.sk-toggleable__label {background-color: #d4ebff;}#sk-container-id-1 input.sk-hidden--visually {border: 0;clip: rect(1px 1px 1px 1px);clip: rect(1px, 1px, 1px, 1px);height: 1px;margin: -1px;overflow: hidden;padding: 0;position: absolute;width: 1px;}#sk-container-id-1 div.sk-estimator {font-family: monospace;background-color: #f0f8ff;border: 1px dotted black;border-radius: 0.25em;box-sizing: border-box;margin-bottom: 0.5em;}#sk-container-id-1 div.sk-estimator:hover {background-color: #d4ebff;}#sk-container-id-1 div.sk-parallel-item::after {content: \"\";width: 100%;border-bottom: 1px solid gray;flex-grow: 1;}#sk-container-id-1 div.sk-label:hover label.sk-toggleable__label {background-color: #d4ebff;}#sk-container-id-1 div.sk-serial::before {content: \"\";position: absolute;border-left: 1px solid gray;box-sizing: border-box;top: 0;bottom: 0;left: 50%;z-index: 0;}#sk-container-id-1 div.sk-serial {display: flex;flex-direction: column;align-items: center;background-color: white;padding-right: 0.2em;padding-left: 0.2em;position: relative;}#sk-container-id-1 div.sk-item {position: relative;z-index: 1;}#sk-container-id-1 div.sk-parallel {display: flex;align-items: stretch;justify-content: center;background-color: white;position: relative;}#sk-container-id-1 div.sk-item::before, #sk-container-id-1 div.sk-parallel-item::before {content: \"\";position: absolute;border-left: 1px solid gray;box-sizing: border-box;top: 0;bottom: 0;left: 50%;z-index: -1;}#sk-container-id-1 div.sk-parallel-item {display: flex;flex-direction: column;z-index: 1;position: relative;background-color: white;}#sk-container-id-1 div.sk-parallel-item:first-child::after {align-self: flex-end;width: 50%;}#sk-container-id-1 div.sk-parallel-item:last-child::after {align-self: flex-start;width: 50%;}#sk-container-id-1 div.sk-parallel-item:only-child::after {width: 0;}#sk-container-id-1 div.sk-dashed-wrapped {border: 1px dashed gray;margin: 0 0.4em 0.5em 0.4em;box-sizing: border-box;padding-bottom: 0.4em;background-color: white;}#sk-container-id-1 div.sk-label label {font-family: monospace;font-weight: bold;display: inline-block;line-height: 1.2em;}#sk-container-id-1 div.sk-label-container {text-align: center;}#sk-container-id-1 div.sk-container {/* jupyter's `normalize.less` sets `[hidden] { display: none; }` but bootstrap.min.css set `[hidden] { display: none !important; }` so we also need the `!important` here to be able to override the default hidden behavior on the sphinx rendered scikit-learn.org. See: https://github.com/scikit-learn/scikit-learn/issues/21755 */display: inline-block !important;position: relative;}#sk-container-id-1 div.sk-text-repr-fallback {display: none;}</style><div id=\"sk-container-id-1\" class=\"sk-top-container\"><div class=\"sk-text-repr-fallback\"><pre>Pipeline(steps=[(&#x27;vectorizer&#x27;, CountVectorizer()),\n",
       "                (&#x27;classifier&#x27;, KNeighborsClassifier())])</pre><b>In a Jupyter environment, please rerun this cell to show the HTML representation or trust the notebook. <br />On GitHub, the HTML representation is unable to render, please try loading this page with nbviewer.org.</b></div><div class=\"sk-container\" hidden><div class=\"sk-item sk-dashed-wrapped\"><div class=\"sk-label-container\"><div class=\"sk-label sk-toggleable\"><input class=\"sk-toggleable__control sk-hidden--visually\" id=\"sk-estimator-id-1\" type=\"checkbox\" ><label for=\"sk-estimator-id-1\" class=\"sk-toggleable__label sk-toggleable__label-arrow\">Pipeline</label><div class=\"sk-toggleable__content\"><pre>Pipeline(steps=[(&#x27;vectorizer&#x27;, CountVectorizer()),\n",
       "                (&#x27;classifier&#x27;, KNeighborsClassifier())])</pre></div></div></div><div class=\"sk-serial\"><div class=\"sk-item\"><div class=\"sk-estimator sk-toggleable\"><input class=\"sk-toggleable__control sk-hidden--visually\" id=\"sk-estimator-id-2\" type=\"checkbox\" ><label for=\"sk-estimator-id-2\" class=\"sk-toggleable__label sk-toggleable__label-arrow\">CountVectorizer</label><div class=\"sk-toggleable__content\"><pre>CountVectorizer()</pre></div></div></div><div class=\"sk-item\"><div class=\"sk-estimator sk-toggleable\"><input class=\"sk-toggleable__control sk-hidden--visually\" id=\"sk-estimator-id-3\" type=\"checkbox\" ><label for=\"sk-estimator-id-3\" class=\"sk-toggleable__label sk-toggleable__label-arrow\">KNeighborsClassifier</label><div class=\"sk-toggleable__content\"><pre>KNeighborsClassifier()</pre></div></div></div></div></div></div></div>"
      ],
      "text/plain": [
       "Pipeline(steps=[('vectorizer', CountVectorizer()),\n",
       "                ('classifier', KNeighborsClassifier())])"
      ]
     },
     "execution_count": 18,
     "metadata": {},
     "output_type": "execute_result"
    }
   ],
   "source": [
    "#Model Training\n",
    "#Create the pipeline using Count Vectorizer\n",
    "\n",
    "clf_method = KNeighborsClassifier()\n",
    "\n",
    "clf_count_vectorizer = Pipeline([\n",
    "     ('vectorizer', count_vectorizer),\n",
    "     ('classifier', clf_method)\n",
    " ])\n",
    "\n",
    "clf_count_vectorizer.fit(X_train, y_train)"
   ]
  },
  {
   "cell_type": "code",
   "execution_count": 19,
   "id": "d2609559",
   "metadata": {},
   "outputs": [
    {
     "data": {
      "text/html": [
       "<style>#sk-container-id-2 {color: black;}#sk-container-id-2 pre{padding: 0;}#sk-container-id-2 div.sk-toggleable {background-color: white;}#sk-container-id-2 label.sk-toggleable__label {cursor: pointer;display: block;width: 100%;margin-bottom: 0;padding: 0.3em;box-sizing: border-box;text-align: center;}#sk-container-id-2 label.sk-toggleable__label-arrow:before {content: \"▸\";float: left;margin-right: 0.25em;color: #696969;}#sk-container-id-2 label.sk-toggleable__label-arrow:hover:before {color: black;}#sk-container-id-2 div.sk-estimator:hover label.sk-toggleable__label-arrow:before {color: black;}#sk-container-id-2 div.sk-toggleable__content {max-height: 0;max-width: 0;overflow: hidden;text-align: left;background-color: #f0f8ff;}#sk-container-id-2 div.sk-toggleable__content pre {margin: 0.2em;color: black;border-radius: 0.25em;background-color: #f0f8ff;}#sk-container-id-2 input.sk-toggleable__control:checked~div.sk-toggleable__content {max-height: 200px;max-width: 100%;overflow: auto;}#sk-container-id-2 input.sk-toggleable__control:checked~label.sk-toggleable__label-arrow:before {content: \"▾\";}#sk-container-id-2 div.sk-estimator input.sk-toggleable__control:checked~label.sk-toggleable__label {background-color: #d4ebff;}#sk-container-id-2 div.sk-label input.sk-toggleable__control:checked~label.sk-toggleable__label {background-color: #d4ebff;}#sk-container-id-2 input.sk-hidden--visually {border: 0;clip: rect(1px 1px 1px 1px);clip: rect(1px, 1px, 1px, 1px);height: 1px;margin: -1px;overflow: hidden;padding: 0;position: absolute;width: 1px;}#sk-container-id-2 div.sk-estimator {font-family: monospace;background-color: #f0f8ff;border: 1px dotted black;border-radius: 0.25em;box-sizing: border-box;margin-bottom: 0.5em;}#sk-container-id-2 div.sk-estimator:hover {background-color: #d4ebff;}#sk-container-id-2 div.sk-parallel-item::after {content: \"\";width: 100%;border-bottom: 1px solid gray;flex-grow: 1;}#sk-container-id-2 div.sk-label:hover label.sk-toggleable__label {background-color: #d4ebff;}#sk-container-id-2 div.sk-serial::before {content: \"\";position: absolute;border-left: 1px solid gray;box-sizing: border-box;top: 0;bottom: 0;left: 50%;z-index: 0;}#sk-container-id-2 div.sk-serial {display: flex;flex-direction: column;align-items: center;background-color: white;padding-right: 0.2em;padding-left: 0.2em;position: relative;}#sk-container-id-2 div.sk-item {position: relative;z-index: 1;}#sk-container-id-2 div.sk-parallel {display: flex;align-items: stretch;justify-content: center;background-color: white;position: relative;}#sk-container-id-2 div.sk-item::before, #sk-container-id-2 div.sk-parallel-item::before {content: \"\";position: absolute;border-left: 1px solid gray;box-sizing: border-box;top: 0;bottom: 0;left: 50%;z-index: -1;}#sk-container-id-2 div.sk-parallel-item {display: flex;flex-direction: column;z-index: 1;position: relative;background-color: white;}#sk-container-id-2 div.sk-parallel-item:first-child::after {align-self: flex-end;width: 50%;}#sk-container-id-2 div.sk-parallel-item:last-child::after {align-self: flex-start;width: 50%;}#sk-container-id-2 div.sk-parallel-item:only-child::after {width: 0;}#sk-container-id-2 div.sk-dashed-wrapped {border: 1px dashed gray;margin: 0 0.4em 0.5em 0.4em;box-sizing: border-box;padding-bottom: 0.4em;background-color: white;}#sk-container-id-2 div.sk-label label {font-family: monospace;font-weight: bold;display: inline-block;line-height: 1.2em;}#sk-container-id-2 div.sk-label-container {text-align: center;}#sk-container-id-2 div.sk-container {/* jupyter's `normalize.less` sets `[hidden] { display: none; }` but bootstrap.min.css set `[hidden] { display: none !important; }` so we also need the `!important` here to be able to override the default hidden behavior on the sphinx rendered scikit-learn.org. See: https://github.com/scikit-learn/scikit-learn/issues/21755 */display: inline-block !important;position: relative;}#sk-container-id-2 div.sk-text-repr-fallback {display: none;}</style><div id=\"sk-container-id-2\" class=\"sk-top-container\"><div class=\"sk-text-repr-fallback\"><pre>Pipeline(steps=[(&#x27;vectorizer&#x27;, TfidfVectorizer()),\n",
       "                (&#x27;classifier&#x27;, KNeighborsClassifier())])</pre><b>In a Jupyter environment, please rerun this cell to show the HTML representation or trust the notebook. <br />On GitHub, the HTML representation is unable to render, please try loading this page with nbviewer.org.</b></div><div class=\"sk-container\" hidden><div class=\"sk-item sk-dashed-wrapped\"><div class=\"sk-label-container\"><div class=\"sk-label sk-toggleable\"><input class=\"sk-toggleable__control sk-hidden--visually\" id=\"sk-estimator-id-4\" type=\"checkbox\" ><label for=\"sk-estimator-id-4\" class=\"sk-toggleable__label sk-toggleable__label-arrow\">Pipeline</label><div class=\"sk-toggleable__content\"><pre>Pipeline(steps=[(&#x27;vectorizer&#x27;, TfidfVectorizer()),\n",
       "                (&#x27;classifier&#x27;, KNeighborsClassifier())])</pre></div></div></div><div class=\"sk-serial\"><div class=\"sk-item\"><div class=\"sk-estimator sk-toggleable\"><input class=\"sk-toggleable__control sk-hidden--visually\" id=\"sk-estimator-id-5\" type=\"checkbox\" ><label for=\"sk-estimator-id-5\" class=\"sk-toggleable__label sk-toggleable__label-arrow\">TfidfVectorizer</label><div class=\"sk-toggleable__content\"><pre>TfidfVectorizer()</pre></div></div></div><div class=\"sk-item\"><div class=\"sk-estimator sk-toggleable\"><input class=\"sk-toggleable__control sk-hidden--visually\" id=\"sk-estimator-id-6\" type=\"checkbox\" ><label for=\"sk-estimator-id-6\" class=\"sk-toggleable__label sk-toggleable__label-arrow\">KNeighborsClassifier</label><div class=\"sk-toggleable__content\"><pre>KNeighborsClassifier()</pre></div></div></div></div></div></div></div>"
      ],
      "text/plain": [
       "Pipeline(steps=[('vectorizer', TfidfVectorizer()),\n",
       "                ('classifier', KNeighborsClassifier())])"
      ]
     },
     "execution_count": 19,
     "metadata": {},
     "output_type": "execute_result"
    }
   ],
   "source": [
    "clf_tfidf_vectorizer = Pipeline([\n",
    "     ('vectorizer', tfidf_vectorizer),\n",
    "     ('classifier', clf_method)\n",
    " ])\n",
    "\n",
    "clf_tfidf_vectorizer.fit(X_train, y_train)"
   ]
  },
  {
   "cell_type": "code",
   "execution_count": 20,
   "id": "55ddfb2f",
   "metadata": {},
   "outputs": [
    {
     "name": "stdout",
     "output_type": "stream",
     "text": [
      "Train Accuracy using Count Vectorizer: 0.973\n",
      "Train Accuracy using TF-IDF Vectorizer: 0.920\n"
     ]
    }
   ],
   "source": [
    "y_train_pred_cvect = clf_count_vectorizer.predict(X_train)\n",
    "y_train_pred_tfidf_vect = clf_tfidf_vectorizer.predict(X_train)\n",
    "\n",
    "print(f\"Train Accuracy using Count Vectorizer: {accuracy_score(y_train, y_train_pred_cvect):.3f}\")\n",
    "print(f\"Train Accuracy using TF-IDF Vectorizer: {accuracy_score(y_train, y_train_pred_tfidf_vect):.3f}\")"
   ]
  },
  {
   "cell_type": "code",
   "execution_count": 21,
   "id": "374cc71a",
   "metadata": {},
   "outputs": [
    {
     "name": "stdout",
     "output_type": "stream",
     "text": [
      "              precision    recall  f1-score   support\n",
      "\n",
      "         ham       0.97      1.00      0.98      3860\n",
      "        spam       0.99      0.81      0.89       597\n",
      "\n",
      "    accuracy                           0.97      4457\n",
      "   macro avg       0.98      0.90      0.94      4457\n",
      "weighted avg       0.97      0.97      0.97      4457\n",
      "\n"
     ]
    }
   ],
   "source": [
    "print(classification_report(y_train, y_train_pred_cvect))"
   ]
  },
  {
   "cell_type": "code",
   "execution_count": 22,
   "id": "437a2679",
   "metadata": {},
   "outputs": [
    {
     "name": "stdout",
     "output_type": "stream",
     "text": [
      "              precision    recall  f1-score   support\n",
      "\n",
      "         ham       0.92      1.00      0.96      3860\n",
      "        spam       1.00      0.41      0.58       597\n",
      "\n",
      "    accuracy                           0.92      4457\n",
      "   macro avg       0.96      0.70      0.77      4457\n",
      "weighted avg       0.93      0.92      0.91      4457\n",
      "\n"
     ]
    }
   ],
   "source": [
    "print(classification_report(y_train, y_train_pred_tfidf_vect))"
   ]
  },
  {
   "cell_type": "code",
   "execution_count": 23,
   "id": "ccf7b594",
   "metadata": {},
   "outputs": [
    {
     "name": "stdout",
     "output_type": "stream",
     "text": [
      "Test Accuracy using Count Vectorizer: 0.968\n",
      "Test Accuracy using TF-IDF Vectorizer: 0.916\n"
     ]
    }
   ],
   "source": [
    "#Model Evaluation\n",
    "y_test_pred_cvect = clf_count_vectorizer.predict(X_test)\n",
    "y_test_pred_tfidf_vect = clf_tfidf_vectorizer.predict(X_test)\n",
    "\n",
    "print(f\"Test Accuracy using Count Vectorizer: {accuracy_score(y_test, y_test_pred_cvect):.3f}\")\n",
    "print(f\"Test Accuracy using TF-IDF Vectorizer: {accuracy_score(y_test, y_test_pred_tfidf_vect):.3f}\")"
   ]
  },
  {
   "cell_type": "code",
   "execution_count": 24,
   "id": "46e5b0fc",
   "metadata": {},
   "outputs": [
    {
     "name": "stdout",
     "output_type": "stream",
     "text": [
      "              precision    recall  f1-score   support\n",
      "\n",
      "         ham       0.97      1.00      0.98       965\n",
      "        spam       0.97      0.78      0.87       150\n",
      "\n",
      "    accuracy                           0.97      1115\n",
      "   macro avg       0.97      0.89      0.92      1115\n",
      "weighted avg       0.97      0.97      0.97      1115\n",
      "\n"
     ]
    }
   ],
   "source": [
    "print(classification_report(y_test, y_test_pred_cvect))"
   ]
  },
  {
   "cell_type": "code",
   "execution_count": 25,
   "id": "f0bb18af",
   "metadata": {},
   "outputs": [
    {
     "name": "stdout",
     "output_type": "stream",
     "text": [
      "              precision    recall  f1-score   support\n",
      "\n",
      "         ham       0.91      1.00      0.95       965\n",
      "        spam       1.00      0.37      0.54       150\n",
      "\n",
      "    accuracy                           0.92      1115\n",
      "   macro avg       0.96      0.69      0.75      1115\n",
      "weighted avg       0.92      0.92      0.90      1115\n",
      "\n"
     ]
    }
   ],
   "source": [
    "print(classification_report(y_test, y_test_pred_tfidf_vect))"
   ]
  },
  {
   "cell_type": "code",
   "execution_count": 26,
   "id": "38c20b23",
   "metadata": {},
   "outputs": [
    {
     "data": {
      "image/png": "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",
      "text/plain": [
       "<Figure size 500x500 with 1 Axes>"
      ]
     },
     "metadata": {},
     "output_type": "display_data"
    }
   ],
   "source": [
    "conf_mat_train = ConfusionMatrixDisplay(confusion_matrix(y_test, y_test_pred_cvect))\n",
    "\n",
    "fig, ax = plt.subplots(figsize=(5, 5))\n",
    "ax.set_title('Testing Set')\n",
    "conf_mat_train.plot(cmap=plt.cm.Blues, ax=ax, colorbar=False);"
   ]
  },
  {
   "cell_type": "markdown",
   "id": "4688e4b0",
   "metadata": {},
   "source": [
    "# Conclusion\n",
    "Based on the results of the machine learning project, it can be concluded that using CountVectorizer with KNN classifier\n",
    "outperforms TF-IDF Vectorizer with KNN in terms of accuracy. The model achieved an accuracy of 0.973 on the training set \n",
    "and 0.968 on the test set, compared to an accuracy of 0.920 on the training set and 0.916 on the test set achieved by the\n",
    "TF-IDF Vectorizer with KNN. Therefore, it can be concluded that the CountVectorizer with KNN model is more reliable and\n",
    "accurate in predicting the outcome of the given dataset."
   ]
  }
 ],
 "metadata": {
  "kernelspec": {
   "display_name": "Python 3 (ipykernel)",
   "language": "python",
   "name": "python3"
  },
  "language_info": {
   "codemirror_mode": {
    "name": "ipython",
    "version": 3
   },
   "file_extension": ".py",
   "mimetype": "text/x-python",
   "name": "python",
   "nbconvert_exporter": "python",
   "pygments_lexer": "ipython3",
   "version": "3.11.5"
  }
 },
 "nbformat": 4,
 "nbformat_minor": 5
}
